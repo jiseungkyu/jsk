{
 "cells": [
  {
   "cell_type": "code",
   "execution_count": 1,
   "id": "a4cb446e",
   "metadata": {},
   "outputs": [],
   "source": [
    "import cv2\n",
    "\n",
    "img = cv2.imread('soccer.jpg')\n",
    "gray = cv2.cvtColor(img, cv2.COLOR_BGR2GRAY) # 컬러 영상을 명암으로 변환\n",
    "\n",
    "grad_x = cv2.Sobel(gray, cv2.CV_32F, 1, 0, ksize = 3) # 결과 영상을 32비트 실수 맵에 저장, x 방향 연산자를 사용, 3*3 크기 사용\n",
    "grad_y = cv2.Sobel(gray, cv2.CV_32F, 0, 1, ksize = 3) # y 방향 연산자를 적용\n",
    "\n",
    "# 음수가 포함된 맵에 절댓값을 취해 양수로 변환\n",
    "sobel_x = cv2.convertScaleAbs(grad_x)\n",
    "sobel_y = cv2.convertScaleAbs(grad_y)\n",
    "\n",
    "edge_strength = cv2.addWeighted(sobel_x, 0.5, sobel_y, 0.5, 0) # sobel_x*0.5 + sobel_y*0.5 + 0\n",
    "\n",
    "# 결과 영상을 윈도우에 디스플레이\n",
    "cv2.imshow('Original', gray)\n",
    "cv2.imshow('sobelx', sobel_x)\n",
    "cv2.imshow('sobely', sobel_y)\n",
    "cv2.imshow('edge strength', edge_strength)\n",
    "\n",
    "cv2.waitKey()\n",
    "cv2.destroyAllWindows()"
   ]
  },
  {
   "cell_type": "code",
   "execution_count": null,
   "id": "612023ab",
   "metadata": {},
   "outputs": [],
   "source": []
  }
 ],
 "metadata": {
  "kernelspec": {
   "display_name": "Python 3 (ipykernel)",
   "language": "python",
   "name": "python3"
  },
  "language_info": {
   "codemirror_mode": {
    "name": "ipython",
    "version": 3
   },
   "file_extension": ".py",
   "mimetype": "text/x-python",
   "name": "python",
   "nbconvert_exporter": "python",
   "pygments_lexer": "ipython3",
   "version": "3.9.12"
  }
 },
 "nbformat": 4,
 "nbformat_minor": 5
}
