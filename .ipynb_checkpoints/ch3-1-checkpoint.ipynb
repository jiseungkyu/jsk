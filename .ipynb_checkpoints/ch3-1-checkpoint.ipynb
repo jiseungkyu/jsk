{
 "cells": [
  {
   "cell_type": "code",
   "execution_count": 2,
   "id": "28a83ca4",
   "metadata": {},
   "outputs": [],
   "source": [
    "import cv2\n",
    "import sys\n",
    "\n",
    "img = cv2.imread('soccer.jpg')\n",
    "\n",
    "if img is None:\n",
    "    sys.exit('파일을 찾을 수 없습니다.')\n",
    "\n",
    "cv2.imshow('original_RGV', img) # 세 채널을 가진 원래 영상 img를 'origin_RGB'라는 윈도우에 디스플레이\n",
    "cv2.imshow('Upper left half', img[0:img.shape[0]//2,0:img.shape[1]//2,:]) # img의 왼쪽 위 부분을 잘라내어 'upper left half'윈도우에 디스플레이, ndarray 클래스의 슬라이싱 기능을 사용\n",
    "cv2.imshow('Center half', img[img.shape[0]//4:3*img.shape[0]//4,img.shape[1]//4:3*img.shape[1]//4,:]) # 첫번째와 두번째 축을 1/4부터 3/4까지 지정해 영상의 중간 부분을 잘라냄\n",
    "\n",
    "# 영상을 채널별로 분리해 서로 다른 윈도우에 디스플레이\n",
    "cv2.imshow('R channel', img[:,:,2])\n",
    "cv2.imshow('G channel', img[:,:,1])\n",
    "cv2.imshow('B channel', img[:,:,0])\n",
    "\n",
    "cv2.waitKey()\n",
    "cv2.destroyAllWindows()"
   ]
  },
  {
   "cell_type": "code",
   "execution_count": null,
   "id": "8fb694a1",
   "metadata": {},
   "outputs": [],
   "source": []
  }
 ],
 "metadata": {
  "kernelspec": {
   "display_name": "Python 3 (ipykernel)",
   "language": "python",
   "name": "python3"
  },
  "language_info": {
   "codemirror_mode": {
    "name": "ipython",
    "version": 3
   },
   "file_extension": ".py",
   "mimetype": "text/x-python",
   "name": "python",
   "nbconvert_exporter": "python",
   "pygments_lexer": "ipython3",
   "version": "3.9.12"
  }
 },
 "nbformat": 4,
 "nbformat_minor": 5
}
