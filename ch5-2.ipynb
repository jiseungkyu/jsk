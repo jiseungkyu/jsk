{
 "cells": [
  {
   "cell_type": "code",
   "execution_count": 1,
   "id": "9204a3b6",
   "metadata": {},
   "outputs": [],
   "source": [
    "import cv2\n",
    "\n",
    "# 영상을 읽고 명암 영상으로 변환하여 저장\n",
    "img = cv2.imread('mot_color70.jpg')\n",
    "gray = cv2.cvtColor(img, cv2.COLOR_BGR2GRAY)\n",
    "\n",
    "sift = cv2.SIFT_create()\n",
    "# SIFT_create(nfeatures, nOctaveLayers, contrastThreshold, edgeThreshold, sigma)\n",
    "# nfeatures: 검출할 특징점 개수를 지정(여기서는 생략)\n",
    "# nOctaveLayers: 옥타브 개수 지정\n",
    "# contrastThreshold: 테일러 확장으로 미세 조정할 때 사용\n",
    "# edgeThreshold: 에지에서 검출된 특징점을 걸러내는 데 사용\n",
    "# sigma: 옥타브 0의 입력 영상에 적용할 가우시안의 표준편차\n",
    "\n",
    "# 특징점과 기술자를 찾아 객체에 저장\n",
    "kp, des = sift.detectAndCompute(gray, None)\n",
    "\n",
    "gray = cv2.drawKeypoints(gray, kp, None, flags = cv2.DRAW_MATCHES_FLAGS_DRAW_RICH_KEYPOINTS) # 검출한 특징점을 영상에 표시\n",
    "cv2.imshow('sift', gray) #영상을 윈도우에 나타냄\n",
    "\n",
    "k = cv2.waitKey()\n",
    "cv2.destroyAllWindows()"
   ]
  },
  {
   "cell_type": "code",
   "execution_count": null,
   "id": "a8222a82",
   "metadata": {},
   "outputs": [],
   "source": []
  }
 ],
 "metadata": {
  "kernelspec": {
   "display_name": "Python 3 (ipykernel)",
   "language": "python",
   "name": "python3"
  },
  "language_info": {
   "codemirror_mode": {
    "name": "ipython",
    "version": 3
   },
   "file_extension": ".py",
   "mimetype": "text/x-python",
   "name": "python",
   "nbconvert_exporter": "python",
   "pygments_lexer": "ipython3",
   "version": "3.9.12"
  }
 },
 "nbformat": 4,
 "nbformat_minor": 5
}
