{
 "cells": [
  {
   "cell_type": "code",
   "execution_count": 1,
   "id": "a389bc61",
   "metadata": {},
   "outputs": [],
   "source": [
    "import skimage\n",
    "import numpy as np\n",
    "import cv2\n",
    "import time\n",
    "\n",
    "\n"
   ]
  },
  {
   "cell_type": "code",
   "execution_count": null,
   "id": "6bbc95ca",
   "metadata": {},
   "outputs": [],
   "source": []
  },
  {
   "cell_type": "code",
   "execution_count": 2,
   "id": "9086b699",
   "metadata": {},
   "outputs": [
    {
     "ename": "AttributeError",
     "evalue": "module 'scipy.sparse' has no attribute 'coo_array'",
     "output_type": "error",
     "traceback": [
      "\u001b[1;31m---------------------------------------------------------------------------\u001b[0m",
      "\u001b[1;31mAttributeError\u001b[0m                            Traceback (most recent call last)",
      "Input \u001b[1;32mIn [2]\u001b[0m, in \u001b[0;36m<cell line: 6>\u001b[1;34m()\u001b[0m\n\u001b[0;32m      4\u001b[0m slic \u001b[38;5;241m=\u001b[39m skimage\u001b[38;5;241m.\u001b[39msegmentation\u001b[38;5;241m.\u001b[39mslic(coffee, compactness\u001b[38;5;241m=\u001b[39m\u001b[38;5;241m20\u001b[39m, n_segments\u001b[38;5;241m=\u001b[39m\u001b[38;5;241m600\u001b[39m, start_label\u001b[38;5;241m=\u001b[39m\u001b[38;5;241m1\u001b[39m) \u001b[38;5;66;03m# 영상을 분할해 객체에 저장\u001b[39;00m\n\u001b[0;32m      5\u001b[0m g \u001b[38;5;241m=\u001b[39m skimage\u001b[38;5;241m.\u001b[39mfuture\u001b[38;5;241m.\u001b[39mgraph\u001b[38;5;241m.\u001b[39mrag_mean_color(coffee, slic, mode\u001b[38;5;241m=\u001b[39m\u001b[38;5;124m\"\u001b[39m\u001b[38;5;124msimilarity\u001b[39m\u001b[38;5;124m\"\u001b[39m) \u001b[38;5;66;03m# rag_mean_color: 슈퍼 화소를 노드로 사용, similarity:에지 가중치로 사용한 그래프를 구성하여 객체에 저장\u001b[39;00m\n\u001b[1;32m----> 6\u001b[0m ncut \u001b[38;5;241m=\u001b[39m \u001b[43mskimage\u001b[49m\u001b[38;5;241;43m.\u001b[39;49m\u001b[43mfuture\u001b[49m\u001b[38;5;241;43m.\u001b[39;49m\u001b[43mgraph\u001b[49m\u001b[38;5;241;43m.\u001b[39;49m\u001b[43mcut_normalized\u001b[49m\u001b[43m(\u001b[49m\u001b[43mslic\u001b[49m\u001b[43m,\u001b[49m\u001b[43m \u001b[49m\u001b[43mg\u001b[49m\u001b[43m)\u001b[49m  \u001b[38;5;66;03m# 정규화 절단\u001b[39;00m\n\u001b[0;32m      7\u001b[0m \u001b[38;5;28mprint\u001b[39m(coffee\u001b[38;5;241m.\u001b[39mshape, \u001b[38;5;124m\"\u001b[39m\u001b[38;5;124m Coffee 영상을 분할하는데 \u001b[39m\u001b[38;5;124m\"\u001b[39m, time\u001b[38;5;241m.\u001b[39mtime() \u001b[38;5;241m-\u001b[39m start, \u001b[38;5;124m\"\u001b[39m\u001b[38;5;124m초 소요\u001b[39m\u001b[38;5;124m\"\u001b[39m)\n\u001b[0;32m      9\u001b[0m marking \u001b[38;5;241m=\u001b[39m skimage\u001b[38;5;241m.\u001b[39msegmentation\u001b[38;5;241m.\u001b[39mmark_boundaries(coffee, ncut) \u001b[38;5;66;03m# 영역 경계를 표시하고 객체에 저장\u001b[39;00m\n",
      "File \u001b[1;32mC:\\ProgramData\\Anaconda3\\lib\\site-packages\\skimage\\future\\graph\\graph_cut.py:141\u001b[0m, in \u001b[0;36mcut_normalized\u001b[1;34m(labels, rag, thresh, num_cuts, in_place, max_edge, random_state)\u001b[0m\n\u001b[0;32m    138\u001b[0m \u001b[38;5;28;01mfor\u001b[39;00m node \u001b[38;5;129;01min\u001b[39;00m rag\u001b[38;5;241m.\u001b[39mnodes():\n\u001b[0;32m    139\u001b[0m     rag\u001b[38;5;241m.\u001b[39madd_edge(node, node, weight\u001b[38;5;241m=\u001b[39mmax_edge)\n\u001b[1;32m--> 141\u001b[0m \u001b[43m_ncut_relabel\u001b[49m\u001b[43m(\u001b[49m\u001b[43mrag\u001b[49m\u001b[43m,\u001b[49m\u001b[43m \u001b[49m\u001b[43mthresh\u001b[49m\u001b[43m,\u001b[49m\u001b[43m \u001b[49m\u001b[43mnum_cuts\u001b[49m\u001b[43m,\u001b[49m\u001b[43m \u001b[49m\u001b[43mrandom_state\u001b[49m\u001b[43m)\u001b[49m\n\u001b[0;32m    143\u001b[0m map_array \u001b[38;5;241m=\u001b[39m np\u001b[38;5;241m.\u001b[39mzeros(labels\u001b[38;5;241m.\u001b[39mmax() \u001b[38;5;241m+\u001b[39m \u001b[38;5;241m1\u001b[39m, dtype\u001b[38;5;241m=\u001b[39mlabels\u001b[38;5;241m.\u001b[39mdtype)\n\u001b[0;32m    144\u001b[0m \u001b[38;5;66;03m# Mapping from old labels to new\u001b[39;00m\n",
      "File \u001b[1;32mC:\\ProgramData\\Anaconda3\\lib\\site-packages\\skimage\\future\\graph\\graph_cut.py:268\u001b[0m, in \u001b[0;36m_ncut_relabel\u001b[1;34m(rag, thresh, num_cuts, random_state)\u001b[0m\n\u001b[0;32m    248\u001b[0m \u001b[38;5;28;01mdef\u001b[39;00m \u001b[38;5;21m_ncut_relabel\u001b[39m(rag, thresh, num_cuts, random_state):\n\u001b[0;32m    249\u001b[0m     \u001b[38;5;124;03m\"\"\"Perform Normalized Graph cut on the Region Adjacency Graph.\u001b[39;00m\n\u001b[0;32m    250\u001b[0m \n\u001b[0;32m    251\u001b[0m \u001b[38;5;124;03m    Recursively partition the graph into 2, until further subdivision\u001b[39;00m\n\u001b[1;32m   (...)\u001b[0m\n\u001b[0;32m    266\u001b[0m \u001b[38;5;124;03m        Provides initial values for eigenvalue solver.\u001b[39;00m\n\u001b[0;32m    267\u001b[0m \u001b[38;5;124;03m    \"\"\"\u001b[39;00m\n\u001b[1;32m--> 268\u001b[0m     d, w \u001b[38;5;241m=\u001b[39m \u001b[43m_ncut\u001b[49m\u001b[38;5;241;43m.\u001b[39;49m\u001b[43mDW_matrices\u001b[49m\u001b[43m(\u001b[49m\u001b[43mrag\u001b[49m\u001b[43m)\u001b[49m\n\u001b[0;32m    269\u001b[0m     m \u001b[38;5;241m=\u001b[39m w\u001b[38;5;241m.\u001b[39mshape[\u001b[38;5;241m0\u001b[39m]\n\u001b[0;32m    271\u001b[0m     \u001b[38;5;28;01mif\u001b[39;00m m \u001b[38;5;241m>\u001b[39m \u001b[38;5;241m2\u001b[39m:\n",
      "File \u001b[1;32mC:\\ProgramData\\Anaconda3\\lib\\site-packages\\skimage\\future\\graph\\_ncut.py:25\u001b[0m, in \u001b[0;36mDW_matrices\u001b[1;34m(graph)\u001b[0m\n\u001b[0;32m      8\u001b[0m \u001b[38;5;124;03m\"\"\"Returns the diagonal and weight matrices of a graph.\u001b[39;00m\n\u001b[0;32m      9\u001b[0m \n\u001b[0;32m     10\u001b[0m \u001b[38;5;124;03mParameters\u001b[39;00m\n\u001b[1;32m   (...)\u001b[0m\n\u001b[0;32m     22\u001b[0m \u001b[38;5;124;03m    joining `i` to `j`.\u001b[39;00m\n\u001b[0;32m     23\u001b[0m \u001b[38;5;124;03m\"\"\"\u001b[39;00m\n\u001b[0;32m     24\u001b[0m \u001b[38;5;66;03m# sparse.eighsh is most efficient with CSC-formatted input\u001b[39;00m\n\u001b[1;32m---> 25\u001b[0m W \u001b[38;5;241m=\u001b[39m \u001b[43mnx\u001b[49m\u001b[38;5;241;43m.\u001b[39;49m\u001b[43mto_scipy_sparse_matrix\u001b[49m\u001b[43m(\u001b[49m\u001b[43mgraph\u001b[49m\u001b[43m,\u001b[49m\u001b[43m \u001b[49m\u001b[38;5;28;43mformat\u001b[39;49m\u001b[38;5;241;43m=\u001b[39;49m\u001b[38;5;124;43m'\u001b[39;49m\u001b[38;5;124;43mcsc\u001b[39;49m\u001b[38;5;124;43m'\u001b[39;49m\u001b[43m)\u001b[49m\n\u001b[0;32m     26\u001b[0m entries \u001b[38;5;241m=\u001b[39m W\u001b[38;5;241m.\u001b[39msum(axis\u001b[38;5;241m=\u001b[39m\u001b[38;5;241m0\u001b[39m)\n\u001b[0;32m     27\u001b[0m D \u001b[38;5;241m=\u001b[39m sparse\u001b[38;5;241m.\u001b[39mdia_matrix((entries, \u001b[38;5;241m0\u001b[39m), shape\u001b[38;5;241m=\u001b[39mW\u001b[38;5;241m.\u001b[39mshape)\u001b[38;5;241m.\u001b[39mtocsc()\n",
      "File \u001b[1;32mC:\\ProgramData\\Anaconda3\\lib\\site-packages\\networkx\\convert_matrix.py:1019\u001b[0m, in \u001b[0;36mto_scipy_sparse_matrix\u001b[1;34m(G, nodelist, dtype, weight, format)\u001b[0m\n\u001b[0;32m   1009\u001b[0m \u001b[38;5;28;01mimport\u001b[39;00m \u001b[38;5;21;01mscipy\u001b[39;00m\u001b[38;5;21;01m.\u001b[39;00m\u001b[38;5;21;01msparse\u001b[39;00m\n\u001b[0;32m   1011\u001b[0m warnings\u001b[38;5;241m.\u001b[39mwarn(\n\u001b[0;32m   1012\u001b[0m     (\n\u001b[0;32m   1013\u001b[0m         \u001b[38;5;124m\"\u001b[39m\u001b[38;5;130;01m\\n\u001b[39;00m\u001b[38;5;130;01m\\n\u001b[39;00m\u001b[38;5;124mThe scipy.sparse array containers will be used instead of matrices\u001b[39m\u001b[38;5;130;01m\\n\u001b[39;00m\u001b[38;5;124m\"\u001b[39m\n\u001b[1;32m   (...)\u001b[0m\n\u001b[0;32m   1017\u001b[0m     stacklevel\u001b[38;5;241m=\u001b[39m\u001b[38;5;241m2\u001b[39m,\n\u001b[0;32m   1018\u001b[0m )\n\u001b[1;32m-> 1019\u001b[0m A \u001b[38;5;241m=\u001b[39m \u001b[43mto_scipy_sparse_array\u001b[49m\u001b[43m(\u001b[49m\n\u001b[0;32m   1020\u001b[0m \u001b[43m    \u001b[49m\u001b[43mG\u001b[49m\u001b[43m,\u001b[49m\u001b[43m \u001b[49m\u001b[43mnodelist\u001b[49m\u001b[38;5;241;43m=\u001b[39;49m\u001b[43mnodelist\u001b[49m\u001b[43m,\u001b[49m\u001b[43m \u001b[49m\u001b[43mdtype\u001b[49m\u001b[38;5;241;43m=\u001b[39;49m\u001b[43mdtype\u001b[49m\u001b[43m,\u001b[49m\u001b[43m \u001b[49m\u001b[43mweight\u001b[49m\u001b[38;5;241;43m=\u001b[39;49m\u001b[43mweight\u001b[49m\u001b[43m,\u001b[49m\u001b[43m \u001b[49m\u001b[38;5;28;43mformat\u001b[39;49m\u001b[38;5;241;43m=\u001b[39;49m\u001b[38;5;28;43mformat\u001b[39;49m\n\u001b[0;32m   1021\u001b[0m \u001b[43m\u001b[49m\u001b[43m)\u001b[49m\n\u001b[0;32m   1022\u001b[0m \u001b[38;5;28;01mreturn\u001b[39;00m sp\u001b[38;5;241m.\u001b[39msparse\u001b[38;5;241m.\u001b[39mcsr_matrix(A)\u001b[38;5;241m.\u001b[39masformat(\u001b[38;5;28mformat\u001b[39m)\n",
      "File \u001b[1;32mC:\\ProgramData\\Anaconda3\\lib\\site-packages\\networkx\\convert_matrix.py:921\u001b[0m, in \u001b[0;36mto_scipy_sparse_array\u001b[1;34m(G, nodelist, dtype, weight, format)\u001b[0m\n\u001b[0;32m    919\u001b[0m         r \u001b[38;5;241m+\u001b[39m\u001b[38;5;241m=\u001b[39m diag_index\n\u001b[0;32m    920\u001b[0m         c \u001b[38;5;241m+\u001b[39m\u001b[38;5;241m=\u001b[39m diag_index\n\u001b[1;32m--> 921\u001b[0m     A \u001b[38;5;241m=\u001b[39m \u001b[43msp\u001b[49m\u001b[38;5;241;43m.\u001b[39;49m\u001b[43msparse\u001b[49m\u001b[38;5;241;43m.\u001b[39;49m\u001b[43mcoo_array\u001b[49m((d, (r, c)), shape\u001b[38;5;241m=\u001b[39m(nlen, nlen), dtype\u001b[38;5;241m=\u001b[39mdtype)\n\u001b[0;32m    922\u001b[0m \u001b[38;5;28;01mtry\u001b[39;00m:\n\u001b[0;32m    923\u001b[0m     \u001b[38;5;28;01mreturn\u001b[39;00m A\u001b[38;5;241m.\u001b[39masformat(\u001b[38;5;28mformat\u001b[39m)\n",
      "\u001b[1;31mAttributeError\u001b[0m: module 'scipy.sparse' has no attribute 'coo_array'"
     ]
    }
   ],
   "source": [
    "coffee = skimage.data.coffee()\n",
    "\n",
    "start = time.time() # 시간 측정\n",
    "slic = skimage.segmentation.slic(coffee, compactness=20, n_segments=600, start_label=1) # 영상을 분할해 객체에 저장\n",
    "g = skimage.future.graph.rag_mean_color(coffee, slic, mode=\"similarity\") # rag_mean_color: 슈퍼 화소를 노드로 사용, similarity:에지 가중치로 사용한 그래프를 구성하여 객체에 저장\n",
    "ncut = skimage.future.graph.cut_normalized(slic, g)  # 정규화 절단\n",
    "print(coffee.shape, \" Coffee 영상을 분할하는데 \", time.time() - start, \"초 소요\")\n",
    "\n",
    "marking = skimage.segmentation.mark_boundaries(coffee, ncut) # 영역 경계를 표시하고 객체에 저장\n",
    "ncut_coffee = np.uint8(marking * 255.0) # unit8 형으로 변환\n",
    "\n",
    "cv2.imshow(\"Normalized cut\", cv2.cvtColor(ncut_coffee, cv2.COLOR_RGB2BGR))\n",
    "\n",
    "cv2.waitKey()\n",
    "cv2.destroyAllWindows()"
   ]
  },
  {
   "cell_type": "code",
   "execution_count": null,
   "id": "77014337",
   "metadata": {},
   "outputs": [],
   "source": []
  }
 ],
 "metadata": {
  "kernelspec": {
   "display_name": "Python 3 (ipykernel)",
   "language": "python",
   "name": "python3"
  },
  "language_info": {
   "codemirror_mode": {
    "name": "ipython",
    "version": 3
   },
   "file_extension": ".py",
   "mimetype": "text/x-python",
   "name": "python",
   "nbconvert_exporter": "python",
   "pygments_lexer": "ipython3",
   "version": "3.9.12"
  }
 },
 "nbformat": 4,
 "nbformat_minor": 5
}
